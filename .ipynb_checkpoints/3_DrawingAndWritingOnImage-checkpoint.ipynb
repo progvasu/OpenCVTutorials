{
 "cells": [
  {
   "cell_type": "code",
   "execution_count": 1,
   "metadata": {},
   "outputs": [],
   "source": [
    "import numpy as np\n",
    "import cv2"
   ]
  },
  {
   "cell_type": "code",
   "execution_count": 2,
   "metadata": {},
   "outputs": [],
   "source": [
    "img = cv2.imread('butter.jpeg', 1)"
   ]
  },
  {
   "cell_type": "code",
   "execution_count": 3,
   "metadata": {},
   "outputs": [
    {
     "data": {
      "text/plain": [
       "array([[[255, 255, 255],\n",
       "        [255, 255, 255],\n",
       "        [255, 255, 255],\n",
       "        ...,\n",
       "        [ 56, 105,  85],\n",
       "        [ 56, 105,  85],\n",
       "        [ 56, 105,  85]],\n",
       "\n",
       "       [[255, 255, 255],\n",
       "        [255, 255, 255],\n",
       "        [255, 255, 255],\n",
       "        ...,\n",
       "        [ 56, 105,  85],\n",
       "        [ 56, 105,  85],\n",
       "        [ 56, 105,  85]],\n",
       "\n",
       "       [[255, 255, 255],\n",
       "        [255, 255, 255],\n",
       "        [255, 255, 255],\n",
       "        ...,\n",
       "        [ 57, 106,  86],\n",
       "        [ 57, 106,  86],\n",
       "        [ 57, 106,  86]],\n",
       "\n",
       "       ...,\n",
       "\n",
       "       [[ 64,  93, 208],\n",
       "        [ 65,  94, 209],\n",
       "        [ 66,  95, 210],\n",
       "        ...,\n",
       "        [ 41,  70,  55],\n",
       "        [ 41,  70,  55],\n",
       "        [ 41,  70,  55]],\n",
       "\n",
       "       [[ 62,  92, 205],\n",
       "        [ 63,  93, 206],\n",
       "        [ 63,  93, 206],\n",
       "        ...,\n",
       "        [ 41,  70,  55],\n",
       "        [ 41,  70,  55],\n",
       "        [ 41,  70,  55]],\n",
       "\n",
       "       [[ 61,  91, 204],\n",
       "        [ 61,  91, 204],\n",
       "        [ 62,  92, 205],\n",
       "        ...,\n",
       "        [ 41,  70,  55],\n",
       "        [ 41,  70,  55],\n",
       "        [ 41,  70,  55]]], dtype=uint8)"
      ]
     },
     "execution_count": 3,
     "metadata": {},
     "output_type": "execute_result"
    }
   ],
   "source": [
    "cv2.line(img, (0,0), (150, 150), (255, 255, 255), 15)\n",
    "# colors in computer work by light e.x more green we add brighter the green gets\n",
    "# (0, 0, 0) - black\n",
    "# (255, 255, 255) - white\n",
    "# 15 - linewidth\n",
    "cv2.imshow('image', '')"
   ]
  },
  {
   "cell_type": "code",
   "execution_count": null,
   "metadata": {},
   "outputs": [],
   "source": []
  }
 ],
 "metadata": {
  "kernelspec": {
   "display_name": "Python 3",
   "language": "python",
   "name": "python3"
  },
  "language_info": {
   "codemirror_mode": {
    "name": "ipython",
    "version": 3
   },
   "file_extension": ".py",
   "mimetype": "text/x-python",
   "name": "python",
   "nbconvert_exporter": "python",
   "pygments_lexer": "ipython3",
   "version": "3.6.5"
  }
 },
 "nbformat": 4,
 "nbformat_minor": 2
}
