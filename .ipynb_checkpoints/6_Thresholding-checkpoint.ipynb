{
 "cells": [
  {
   "cell_type": "code",
   "execution_count": 1,
   "metadata": {},
   "outputs": [],
   "source": [
    "import cv2\n",
    "import numpy as np"
   ]
  },
  {
   "cell_type": "code",
   "execution_count": 2,
   "metadata": {},
   "outputs": [],
   "source": [
    "img = cv2.imread('bookpage.jpg', cv2.IMREAD_COLOR)"
   ]
  },
  {
   "cell_type": "code",
   "execution_count": 6,
   "metadata": {},
   "outputs": [],
   "source": [
    "retval, threshold = cv2.threshold(img, 12, 255, cv2.THRESH_BINARY) \n",
    "# threshold value set to 12\n",
    "# max value is 255\n",
    "cv2.imshow('original', img)\n",
    "cv2.imshow('threshold', threshold)\n",
    "cv2.waitKey(0)\n",
    "cv2.destroyAllWindows()\n",
    "# values are just 0's and 1's so contrasting colors are seen"
   ]
  },
  {
   "cell_type": "code",
   "execution_count": 9,
   "metadata": {},
   "outputs": [],
   "source": [
    "# gray threshold\n",
    "grayscaled = cv2.cvtColor(img, cv2.COLOR_BGR2GRAY)\n",
    "retval2, threshold2 = cv2.threshold(grayscaled, 12, 255, cv2.THRESH_BINARY) \n",
    "# threshold value set to 12\n",
    "# max value is 255\n",
    "cv2.imshow('original', img)\n",
    "cv2.imshow('threshold', threshold)\n",
    "cv2.imshow('threshold2', threshold2)\n",
    "cv2.waitKey(0)\n",
    "cv2.destroyAllWindows()"
   ]
  },
  {
   "cell_type": "code",
   "execution_count": null,
   "metadata": {},
   "outputs": [],
   "source": [
    "# gaussion adaptive threshold\n"
   ]
  }
 ],
 "metadata": {
  "kernelspec": {
   "display_name": "Python 3",
   "language": "python",
   "name": "python3"
  },
  "language_info": {
   "codemirror_mode": {
    "name": "ipython",
    "version": 3
   },
   "file_extension": ".py",
   "mimetype": "text/x-python",
   "name": "python",
   "nbconvert_exporter": "python",
   "pygments_lexer": "ipython3",
   "version": "3.6.5"
  }
 },
 "nbformat": 4,
 "nbformat_minor": 2
}
