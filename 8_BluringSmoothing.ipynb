{
 "cells": [
  {
   "cell_type": "code",
   "execution_count": 1,
   "metadata": {},
   "outputs": [],
   "source": [
    "import cv2\n",
    "import numpy as np"
   ]
  },
  {
   "cell_type": "code",
   "execution_count": 22,
   "metadata": {},
   "outputs": [],
   "source": [
    "cap = cv2.VideoCapture(0)\n",
    "\n",
    "while True:\n",
    "    _, frame = cap.read()\n",
    "    # _ = need it for unpacking but we don't care about it\n",
    "    hsv = cv2.cvtColor(frame, cv2.COLOR_BGR2HSV)\n",
    "    # hsv = hue saturation value\n",
    "    \n",
    "    lower_black = np.array([70, 0, 0])\n",
    "    upper_black = np.array([120, 70, 255])\n",
    "    \n",
    "    # currently mask is identical to the frame\n",
    "    mask = cv2.inRange(hsv, lower_black, upper_black)\n",
    "    # inRange means 1 and it will be white\n",
    "    \n",
    "    res = cv2.bitwise_and(frame, frame, mask=mask)\n",
    "    \n",
    "    # smoothing\n",
    "    kernel = np.ones((15, 15), np.float32)/255\n",
    "    smoothed = cv2.filter2D(res, -1, kernel)\n",
    "    \n",
    "    # gaussian blurr\n",
    "    blur = cv2.GaussianBlur(res, (15, 15), 0)\n",
    "    # median blur\n",
    "    median = cv2.medianBlur(res, 15)\n",
    "    # bilateral blur\n",
    "    bilateral = cv2.bilateralFilter(res, 15, 75, 75)\n",
    "    \n",
    "    cv2.imshow('frame', frame)\n",
    "    # cv2.imshow('mask', mask)\n",
    "    cv2.imshow('res', res)\n",
    "    cv2.imshow('smoothed', smoothed) \n",
    "    cv2.imshow('blur', blur)\n",
    "    cv2.imshow('median', median)\n",
    "    cv2.imshow('bil', bilateral)\n",
    "    \n",
    "    k = cv2.waitKey(5) & 0xFF\n",
    "    if (k == 27):\n",
    "        break\n",
    "        \n",
    "cv2.destroyAllWindows()\n",
    "cap.release()"
   ]
  },
  {
   "cell_type": "code",
   "execution_count": null,
   "metadata": {},
   "outputs": [],
   "source": []
  }
 ],
 "metadata": {
  "kernelspec": {
   "display_name": "Python 3",
   "language": "python",
   "name": "python3"
  },
  "language_info": {
   "codemirror_mode": {
    "name": "ipython",
    "version": 3
   },
   "file_extension": ".py",
   "mimetype": "text/x-python",
   "name": "python",
   "nbconvert_exporter": "python",
   "pygments_lexer": "ipython3",
   "version": "3.6.5"
  }
 },
 "nbformat": 4,
 "nbformat_minor": 2
}
