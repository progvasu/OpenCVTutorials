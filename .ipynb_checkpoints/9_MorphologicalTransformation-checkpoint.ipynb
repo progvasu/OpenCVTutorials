{
 "cells": [
  {
   "cell_type": "code",
   "execution_count": 2,
   "metadata": {},
   "outputs": [],
   "source": [
    "import cv2\n",
    "import numpy as np"
   ]
  },
  {
   "cell_type": "code",
   "execution_count": 3,
   "metadata": {},
   "outputs": [],
   "source": [
    "# to remove white noise"
   ]
  },
  {
   "cell_type": "code",
   "execution_count": 11,
   "metadata": {},
   "outputs": [],
   "source": [
    "cap = cv2.VideoCapture(0)\n",
    "\n",
    "while True:\n",
    "    _, frame = cap.read()\n",
    "    hsv = cv2.cvtColor(frame, cv2.COLOR_BGR2HSV)\n",
    "    \n",
    "    # green mobile forest screen\n",
    "    lower_black = np.array([70, 50, 0])\n",
    "    upper_black = np.array([120, 150, 255])\n",
    "    \n",
    "    mask = cv2.inRange(hsv, lower_black, upper_black)\n",
    "    res = cv2.bitwise_and(frame, frame, mask=mask)\n",
    "    \n",
    "    # morphological transformation\n",
    "    # erosion\n",
    "    \n",
    "    \n",
    "    # dilation - opposite of erosion\n",
    "    \n",
    "    \n",
    "    cv2.imshow('frame', frame)\n",
    "    cv2.imshow('res', res)\n",
    "    \n",
    "    k = cv2.waitKey(5) & 0xFF\n",
    "    if (k == 27):\n",
    "        break\n",
    "        \n",
    "cv2.destroyAllWindows()\n",
    "cap.release()"
   ]
  },
  {
   "cell_type": "code",
   "execution_count": null,
   "metadata": {},
   "outputs": [],
   "source": []
  }
 ],
 "metadata": {
  "kernelspec": {
   "display_name": "Python 3",
   "language": "python",
   "name": "python3"
  },
  "language_info": {
   "codemirror_mode": {
    "name": "ipython",
    "version": 3
   },
   "file_extension": ".py",
   "mimetype": "text/x-python",
   "name": "python",
   "nbconvert_exporter": "python",
   "pygments_lexer": "ipython3",
   "version": "3.6.5"
  }
 },
 "nbformat": 4,
 "nbformat_minor": 2
}
