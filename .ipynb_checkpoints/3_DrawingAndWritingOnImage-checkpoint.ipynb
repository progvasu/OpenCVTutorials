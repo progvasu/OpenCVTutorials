{
 "cells": [
  {
   "cell_type": "code",
   "execution_count": 1,
   "metadata": {},
   "outputs": [],
   "source": [
    "import numpy as np\n",
    "import cv2"
   ]
  },
  {
   "cell_type": "code",
   "execution_count": 2,
   "metadata": {},
   "outputs": [],
   "source": [
    "img = cv2.imread('butter.jpeg', 1)"
   ]
  },
  {
   "cell_type": "code",
   "execution_count": 4,
   "metadata": {},
   "outputs": [],
   "source": [
    "cv2.line(img, (0,0), (150, 150), (255, 255, 255), 15)\n",
    "# colors in computer work by light e.x more green we add brighter the green gets\n",
    "# (0, 0, 0) - black\n",
    "# (255, 255, 255) - white\n",
    "# 15 - linewidth\n",
    "cv2.imshow('image', img)\n",
    "cv2.waitKey(0)\n",
    "cv2.destroyAllWindows()"
   ]
  },
  {
   "cell_type": "code",
   "execution_count": 6,
   "metadata": {},
   "outputs": [],
   "source": [
    "# drawing a rectangle\n",
    "cv2.rectangle(img, (15, 25), (300, 350), (0, 255, 0), 5)\n",
    "# drawing a circle\n",
    "cv2.circle(img, (100, 63), 55, (0, 0, 255), -1) # -1 = fill in the circle\n",
    "\n",
    "cv2.imshow('image', img)\n",
    "cv2.waitKey(0)\n",
    "cv2.destroyAllWindows()"
   ]
  },
  {
   "cell_type": "code",
   "execution_count": 7,
   "metadata": {},
   "outputs": [],
   "source": [
    "# drawing polygon's\n",
    "pts = np.array([[10, 5], [20, 30], [70, 20], [50, 10]],  np.int32)\n",
    "# documentation tells to reshape it to below but we already have that shape\n",
    "# pts = pts.reshape((-1, 1, 2))\n",
    "cv2.polylines(img, [pts], True, (0, 255, 255), 3)\n",
    "# True - if want to connect finish point to starting point\n",
    "cv2.imshow('image', img)\n",
    "cv2.waitKey(0)\n",
    "cv2.destroyAllWindows()"
   ]
  },
  {
   "cell_type": "code",
   "execution_count": 8,
   "metadata": {},
   "outputs": [],
   "source": [
    "# writing on image\n",
    "font = cv2.FONT_HERSHEY_SIMPLEX\n",
    "cv2.putText(img, 'Open CV something', (250, 250), font, 1, (200, 255, 255), 2, cv2.LINE_AA)\n",
    "# 2 = thicknes of letters\n",
    "cv2.imshow('image', img)\n",
    "cv2.waitKey(0)\n",
    "cv2.destroyAllWindows()"
   ]
  }
 ],
 "metadata": {
  "kernelspec": {
   "display_name": "Python 3",
   "language": "python",
   "name": "python3"
  },
  "language_info": {
   "codemirror_mode": {
    "name": "ipython",
    "version": 3
   },
   "file_extension": ".py",
   "mimetype": "text/x-python",
   "name": "python",
   "nbconvert_exporter": "python",
   "pygments_lexer": "ipython3",
   "version": "3.6.5"
  }
 },
 "nbformat": 4,
 "nbformat_minor": 2
}
