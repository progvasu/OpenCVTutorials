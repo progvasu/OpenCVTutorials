{
 "cells": [
  {
   "cell_type": "code",
   "execution_count": 19,
   "metadata": {},
   "outputs": [],
   "source": [
    "import cv2\n",
    "import numpy as np"
   ]
  },
  {
   "cell_type": "code",
   "execution_count": 20,
   "metadata": {},
   "outputs": [],
   "source": [
    "img1 = cv2.imread('scene1.jpg', cv2.IMREAD_COLOR)\n",
    "img2 = cv2.imread('scene2.jpg', cv2.IMREAD_COLOR)"
   ]
  },
  {
   "cell_type": "code",
   "execution_count": 21,
   "metadata": {},
   "outputs": [
    {
     "data": {
      "text/plain": [
       "(500, 500, 3)"
      ]
     },
     "execution_count": 21,
     "metadata": {},
     "output_type": "execute_result"
    }
   ],
   "source": [
    "img1.shape"
   ]
  },
  {
   "cell_type": "code",
   "execution_count": 22,
   "metadata": {},
   "outputs": [
    {
     "data": {
      "text/plain": [
       "(500, 500, 3)"
      ]
     },
     "execution_count": 22,
     "metadata": {},
     "output_type": "execute_result"
    }
   ],
   "source": [
    "img2.shape"
   ]
  },
  {
   "cell_type": "code",
   "execution_count": 23,
   "metadata": {},
   "outputs": [],
   "source": [
    "# could add these two images\n",
    "add = img1 + img2\n",
    "cv2.imshow('title', add)\n",
    "cv2.waitKey(0)\n",
    "cv2.destroyAllWindows()\n",
    "# neither of the image lost their opaqueness"
   ]
  },
  {
   "cell_type": "code",
   "execution_count": 24,
   "metadata": {},
   "outputs": [],
   "source": [
    "# using cv2 built in add function\n",
    "add = cv2.add(img1, img2)\n",
    "cv2.imshow('title', add)\n",
    "cv2.waitKey(0)\n",
    "cv2.destroyAllWindows()\n",
    "# get a whited out image - this function adds the pixel values together - close to (255, 255, 255) - limit to 255"
   ]
  },
  {
   "cell_type": "code",
   "execution_count": 27,
   "metadata": {},
   "outputs": [],
   "source": [
    "weighted_add = cv2.addWeighted(img1, 0.3, img2, 0.7, 0)\n",
    "# 0.6, 0.4 = weights\n",
    "# 0 = gamma value\n",
    "cv2.imshow('weighted', weighted_add)\n",
    "cv2.waitKey(0)\n",
    "cv2.destroyAllWindows()"
   ]
  },
  {
   "cell_type": "code",
   "execution_count": 29,
   "metadata": {},
   "outputs": [],
   "source": [
    "img3 = cv2.imread('icon.png', cv2.IMREAD_COLOR)"
   ]
  },
  {
   "cell_type": "code",
   "execution_count": 35,
   "metadata": {},
   "outputs": [],
   "source": [
    "# adding icon 'img3' to the top right corner of 'img1'\n",
    "rows, cols, channels = img3.shape\n",
    "\n",
    "# where to add in the region of image 1\n",
    "roi = img1[0:rows, 0:cols]\n",
    "\n",
    "# creating a mask of the icon - for making the background transparent\n",
    "img3gray = cv2.cvtColor(img3, cv2.COLOR_BGR2GRAY)\n",
    "# applying threshold\n",
    "ret, mask = cv2.threshold(img3gray, 220, 225, cv2.THRESH_BINARY_INV)\n",
    "# threshold value = anything above 220 will be converted to 225 - white and if \n",
    "# it is below 220 it is converted to black\n",
    "# then cv2.THRESH_BINARY_INV does something?\n",
    "\n",
    "# lets see how mask looks\n",
    "# cv2.imshow('mask', mask)\n",
    "# background is black - we dont want that for img3\n",
    "\n",
    "# black to white and white to black\n",
    "# for bg image img1 - bg of img3 as white and logo as black - want to delete that part - black 0 0 0 will make it 0 in and operation\n",
    "mask_inv = cv2.bitwise_not(mask)\n",
    "# cv2.imshow('mask_inv', mask_inv)\n",
    "\n",
    "img1_bg = cv2.bitwise_and(roi, roi, mask=mask_inv)\n",
    "img3_fg = cv2.bitwise_and(img3, img3, mask=mask)\n",
    "\n",
    "dst = cv2.add(img1_bg, img3_fg)\n",
    "img1[0:rows, 0:cols] = dst\n",
    "\n",
    "cv2.imshow('overlapped', img1)\n",
    "\n",
    "cv2.waitKey(0)\n",
    "cv2.destroyAllWindows()"
   ]
  },
  {
   "cell_type": "code",
   "execution_count": null,
   "metadata": {},
   "outputs": [],
   "source": []
  }
 ],
 "metadata": {
  "kernelspec": {
   "display_name": "Python 3",
   "language": "python",
   "name": "python3"
  },
  "language_info": {
   "codemirror_mode": {
    "name": "ipython",
    "version": 3
   },
   "file_extension": ".py",
   "mimetype": "text/x-python",
   "name": "python",
   "nbconvert_exporter": "python",
   "pygments_lexer": "ipython3",
   "version": "3.6.5"
  }
 },
 "nbformat": 4,
 "nbformat_minor": 2
}
